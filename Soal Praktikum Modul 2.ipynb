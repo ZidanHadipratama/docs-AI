{
 "cells": [
  {
   "cell_type": "markdown",
   "id": "7f5dcded",
   "metadata": {
    "id": "7f5dcded"
   },
   "source": [
    "# Praktikum Modul 2 AI"
   ]
  },
  {
   "cell_type": "markdown",
   "id": "d4b87121",
   "metadata": {
    "id": "d4b87121"
   },
   "source": [
    "- Selamat datang di Praktikum Modul 2, bantu Rendy Atreides dalam menyelesaikan soal soal modul Statistika dan Probabilitas. <br>\n",
    "- Jika ada pertanyaan silahkan tanyakan di **#use-ask** discord praktikum.\n",
    "\n",
    "# Table of Contents\n",
    "- [Case A](#A)\n",
    "    - [ Soal 1](#1)\n",
    "- [Case B](#B)\n",
    "    - [ Soal 2](#2)\n",
    "- [Case C](#C)\n",
    "    - [ Soal 3](#3)\n",
    "- [Case D](#D)\n",
    "    - [ Soal 4](#4)\n",
    "    - [ Soal 5](#5)\n",
    "- [ Soal 6](#6)"
   ]
  },
  {
   "cell_type": "code",
   "execution_count": null,
   "id": "c2c26712",
   "metadata": {
    "id": "c2c26712"
   },
   "outputs": [],
   "source": [
    "# Tambahkan sendiri seperlunya\n",
    "import numpy as np\n",
    "import pandas as pd\n",
    "\n",
    "from scipy.stats import binom"
   ]
  },
  {
   "cell_type": "markdown",
   "id": "667c5e3c",
   "metadata": {
    "id": "667c5e3c"
   },
   "source": [
    "<a name='A'></a>\n",
    "## Case A\n",
    "\n",
    "- Rendy Atreides mempunyai penglihatan terhadap musim hujan yang akan datang, karena hal tersebut ada kemungkinan/probabilitas teman dan kerabat nya untuk mendapatkan flu, $P(\\text{flu})$\n",
    "- Jika orang tersebut mendapatkan **vaksinasi**, maka peluang orang tersebut untuk terjangkit flu **seharusnya** berubah.\n",
    "\n",
    "- Diberikan data berikut\n",
    "\n",
    "| Kondisi   | Suhu Rata-rata (°C) | Vaksin | Tidak Vaksin | PDB Regional (dalam Miliar) | Jumlah Hari Libur Nasional | Rata-rata Jam Matahari per Hari |\n",
    "|-----------|---------------------|--------|--------------|-----------------------------|----------------------------|---------------------------------|\n",
    "| Flu       | 27                  | 200    | 900          | 650                         | 12                         | 6                               |\n",
    "| Tidak Flu | 27                  | 4000   | 9000         | 650                         | 12                         | 6                               |\n",
    "\n",
    "\n"
   ]
  },
  {
   "cell_type": "markdown",
   "id": "108086f1",
   "metadata": {
    "id": "108086f1"
   },
   "source": [
    "---\n",
    "<a name='1'></a>\n",
    "### **Soal 1**:\n",
    "A. Dari data di atas, berapa peluang seseorang akan mengidap flu apabila telah vaksin? <br>\n",
    "\n",
    "$$\n",
    "\\begin{align*}\n",
    "P(\\text{flu} \\ | \\ \\text{vaksin}) &= ?\n",
    "\\end{align*}\n",
    "$$\n",
    "\n",
    "B. Dari data di atas, berapa peluang seseorang akan mengidap flu apabila **belum** divaksin?"
   ]
  },
  {
   "cell_type": "code",
   "execution_count": null,
   "id": "c7e54593",
   "metadata": {
    "id": "c7e54593"
   },
   "outputs": [],
   "source": [
    "n_flu_dan_vaksin = 200\n",
    "n_flu_dan_tidak_vaksin = 900\n",
    "\n",
    "n_tidak_flu_dan_vaksin = 4000\n",
    "n_tidak_flu_dan_tidak_vaksin = 9000\n",
    "\n",
    "n_flu = n_flu_dan_vaksin + n_flu_dan_tidak_vaksin\n",
    "n_tidak_flu = n_tidak_flu_dan_vaksin + n_tidak_flu_dan_tidak_vaksin \n",
    "\n",
    "n_sample = n_flu_dan_vaksin + n_flu_dan_tidak_vaksin + n_tidak_flu_dan_vaksin + n_tidak_flu_dan_tidak_vaksin "
   ]
  },
  {
   "cell_type": "markdown",
   "id": "d12579b2",
   "metadata": {
    "id": "d12579b2"
   },
   "source": [
    "### A. Dari data di atas, berapa peluang seseorang akan mengidap flu apabila telah vaksin?"
   ]
  },
  {
   "cell_type": "code",
   "execution_count": 2,
   "id": "c3684395",
   "metadata": {
    "id": "c3684395"
   },
   "outputs": [
    {
     "ename": "NameError",
     "evalue": "name 'n_tidak_flu_dan_vaksin' is not defined",
     "output_type": "error",
     "traceback": [
      "\u001b[0;31m---------------------------------------------------------------------------\u001b[0m",
      "\u001b[0;31mNameError\u001b[0m                                 Traceback (most recent call last)",
      "Cell \u001b[0;32mIn[2], line 3\u001b[0m\n\u001b[1;32m      1\u001b[0m n_flu_dan_vaksin \u001b[38;5;241m=\u001b[39m \u001b[38;5;241m200\u001b[39m\n\u001b[0;32m----> 3\u001b[0m n_vaksin \u001b[38;5;241m=\u001b[39m n_flu_dan_vaksin \u001b[38;5;241m+\u001b[39m \u001b[43mn_tidak_flu_dan_vaksin\u001b[49m\n\u001b[1;32m      5\u001b[0m \u001b[38;5;28mprint\u001b[39m(\u001b[38;5;124mf\u001b[39m\u001b[38;5;124m\"\u001b[39m\u001b[38;5;124mJumlah orang yang divaksin : \u001b[39m\u001b[38;5;132;01m{\u001b[39;00mn_vaksin\u001b[38;5;132;01m}\u001b[39;00m\u001b[38;5;124m\"\u001b[39m)\n\u001b[1;32m      7\u001b[0m p_vaksin \u001b[38;5;241m=\u001b[39m n_vaksin \u001b[38;5;241m/\u001b[39m n_sample\n",
      "\u001b[0;31mNameError\u001b[0m: name 'n_tidak_flu_dan_vaksin' is not defined"
     ]
    }
   ],
   "source": [
    "n_vaksin = n_flu_dan_vaksin + n_tidak_flu_dan_vaksin\n",
    "\n",
    "print(f\"Jumlah orang yang divaksin : {n_vaksin}\")\n",
    "\n",
    "p_vaksin = n_vaksin / n_sample\n",
    "\n",
    "p_flu_dan_vaksin = n_flu_dan_vaksin / n_sample\n",
    "\n",
    "p_flu_jika_vaksin = p_flu_dan_vaksin / p_vaksin\n",
    "\n",
    "print(f\"A. Peluang orang mengalami flu jika sudah vaksin : {p_flu_jika_vaksin:.4f}\")"
   ]
  },
  {
   "cell_type": "code",
   "execution_count": null,
   "id": "38ca2bea-0e4c-491b-9ac1-3a3619153d98",
   "metadata": {
    "id": "31d8cf7f"
   },
   "outputs": [],
   "source": [
    "Solver:\n",
    "\n",
    "$$\n",
    "\\begin{align*}\n",
    "P(\\text{flu} \\ | \\ \\text{vaksin}) &= \\cfrac{n(\\text{flu} \\cap \\text{vaksin})}{n(\\text{vaksin})}\n",
    "\\end{align*}\n",
    "$$"
   ]
  },
  {
   "cell_type": "markdown",
   "id": "6e6eb2e5",
   "metadata": {
    "id": "6e6eb2e5"
   },
   "source": [
    "### B. Dari data di atas, berapa peluang seseorang akan mengidap flu apabila **belum** divaksin?"
   ]
  },
  {
   "cell_type": "code",
   "execution_count": null,
   "id": "4670f570",
   "metadata": {
    "id": "4670f570"
   },
   "outputs": [],
   "source": [
    "n_tidak_vaksin =\n",
    "\n",
    "p_flu_jika_belum_vaksin =\n",
    "print(f\"Peluang orang mengalami flu jika belum vaksin : {p_flu_jika_belum_vaksin:.4f}\")"
   ]
  },
  {
   "cell_type": "markdown",
   "id": "c864d45d",
   "metadata": {
    "id": "c864d45d"
   },
   "source": [
    "**Penjelasan Pengerjaan Soal 1** <br>\n",
    "[Isi Penjelasan Soal 1 di sini]"
   ]
  },
  {
   "cell_type": "markdown",
   "id": "afaeebec",
   "metadata": {
    "id": "afaeebec"
   },
   "source": [
    "<a name='B'></a>\n",
    "## Case B = Pengaruh Cuaca Terhadap Frekuensi Penggunaan Transportasi Umum\n",
    "\n",
    "- Telah diamati bahwa cuaca memiliki pengaruh terhadap keputusan orang menggunakan transportasi umum. Anda memiliki data historis dari perusahaan transportasi umum yang mencatat jumlah penumpang per hari selama berbagai kondisi cuaca.\n",
    "\n",
    "- Diberikan data berikut\n",
    "\n",
    "| Data Operasi       | Pengguna ketika Hujan | Pengguna ketika Cerah | Promo yang berlaku | Zona Tarif |\n",
    "|--------------------|-------|-------|--------------------|------------|\n",
    "| Grab-bike          | 4     | 475   |Diskon 10%          |Zona 1      |\n",
    "| Grab-car           | 185   | 49    |Tidak ada promo     |Zona 2      |\n",
    "\n",
    "\n"
   ]
  },
  {
   "cell_type": "markdown",
   "id": "25a9fb92",
   "metadata": {
    "id": "25a9fb92"
   },
   "source": [
    "---\n",
    "<a name='2'></a>\n",
    "### **Soal 2**:\n",
    "A. Berapa peluang **orang menggunakan produk grab-bike?** <br>\n",
    "B. Berapa peluang **orang menggunakan produk grab-car** jika diketahui **terjadi hujan**<br>\n",
    "C. Berapa peluang **orang menggunakan produk grab-car** jika diketahui **hari cerah**<br>\n",
    "D. Bagaimana konsep probabilitas bersyarat digunakan untuk menghitung peluang penggunaan produk grab-car ketika diketahui kondisi cuaca (hujan atau cerah), dan mengapa ini penting dalam menganalisis data operasi seperti ini?"
   ]
  },
  {
   "cell_type": "markdown",
   "id": "265f32cb",
   "metadata": {
    "id": "265f32cb"
   },
   "source": [
    "### A. Berapa peluang **orang menggunakan produk grab-bike?**"
   ]
  },
  {
   "cell_type": "code",
   "execution_count": null,
   "id": "417f804f",
   "metadata": {
    "id": "417f804f"
   },
   "outputs": [],
   "source": [
    "soal_2A =\n",
    "\n",
    "print(f\"2A. Peluang orang menggunakan produk grab-bike adalah : {soal_2A =:.2f}\")"
   ]
  },
  {
   "cell_type": "markdown",
   "id": "ac169e48",
   "metadata": {
    "id": "ac169e48"
   },
   "source": [
    "### B. Berapa peluang **orang menggunakan produk grab-car** jika diketahui **terjadi hujan**"
   ]
  },
  {
   "cell_type": "code",
   "execution_count": null,
   "id": "2f3daabe",
   "metadata": {
    "id": "2f3daabe"
   },
   "outputs": [],
   "source": [
    "Soal_2B =\n",
    "\n",
    "print(f\"2B. Peluang orang menggunakan produk go-car jika diketahui terjadi hujan adalah : {Soal_2B:.2f}\")"
   ]
  },
  {
   "cell_type": "markdown",
   "id": "3c991473",
   "metadata": {
    "id": "3c991473"
   },
   "source": [
    "Solver:\n",
    "\n",
    "$$\n",
    "\\begin{align*}\n",
    "P(\\text{A} \\ | \\ \\text{B}) &= \\cfrac{P(\\text{A} \\cap \\text{B})}{P(\\text{B})}\n",
    "\\end{align*}\n",
    "$$"
   ]
  },
  {
   "cell_type": "markdown",
   "id": "6a257e38",
   "metadata": {
    "id": "6a257e38"
   },
   "source": [
    "### C. Berapa peluang **orang menggunakan produk grab-car** jika diketahui **hari cerah**"
   ]
  },
  {
   "cell_type": "code",
   "execution_count": null,
   "id": "d7c6d8e4",
   "metadata": {
    "id": "d7c6d8e4"
   },
   "outputs": [],
   "source": [
    "Soal_2C =\n",
    "\n",
    "print(f\"2C. peluang orang menggunakan produk grab-car jika diketahui hari cerah : {Soal_2C:.2f}\")"
   ]
  },
  {
   "cell_type": "markdown",
   "id": "f4ab8922",
   "metadata": {
    "id": "f4ab8922"
   },
   "source": [
    "### D. Bagaimana konsep probabilitas bersyarat digunakan untuk menghitung peluang penggunaan produk grab-car ketika diketahui kondisi cuaca (hujan atau cerah), dan mengapa ini penting dalam menganalisis data operasi seperti ini?"
   ]
  },
  {
   "cell_type": "markdown",
   "id": "3f8b1040",
   "metadata": {
    "id": "3f8b1040"
   },
   "source": [
    "D. ..................."
   ]
  },
  {
   "cell_type": "markdown",
   "id": "3c6fb54b",
   "metadata": {
    "id": "3c6fb54b"
   },
   "source": [
    "**Penjelasan Pengerjaan Soal 2** <br>\n",
    "[Isi Penjelasan Soal 2 di sini]"
   ]
  },
  {
   "cell_type": "markdown",
   "id": "7e52f243",
   "metadata": {
    "id": "7e52f243"
   },
   "source": [
    "---\n",
    "<a name='C'></a>\n",
    "## **Case 3**: Sebuah perusahaan IT memiliki dua divisi, Divisi Pengembangan dan Divisi Pemasaran, yang keduanya mempekerjakan para profesional IT. Dalam Divisi Pengembangan, 30% dari pekerja memiliki pengalaman kerja kurang dari 3 tahun, sedangkan di Divisi Pemasaran, 70% dari pekerja memiliki pengalaman kerja kurang dari 3 tahun.\n",
    "\n",
    "<a name='3'></a>\n",
    "### Soal 3.\n",
    "A. Jika seorang pekerja dipilih secara acak dan ternyata memiliki pengalaman kerja kurang dari 3 tahun, berapa probabilitas bahwa pekerja tersebut berasal dari Divisi Pengembangan? <br>\n",
    "B. Dengan mempertimbangkan informasi dari Divisi Pengembangan dan Divisi Pemasaran seperti yang diberikan sebelumnya, jika diketahui bahwa sebuah proyek baru memerlukan tim yang terdiri dari pekerja dengan pengalaman kerja kurang dari 3 tahun, dan satu pekerja dipilih secara acak dari keseluruhan pekerja yang memenuhi kriteria ini, berapa rasio antara probabilitas pekerja tersebut berasal dari Divisi Pengembangan terhadap probabilitas pekerja tersebut berasal dari Divisi Pemasaran?"
   ]
  },
  {
   "cell_type": "markdown",
   "id": "7ca11511",
   "metadata": {
    "id": "7ca11511"
   },
   "source": [
    "### A. Jika seorang pekerja dipilih secara acak dan ternyata memiliki pengalaman kerja kurang dari 3 tahun, berapa probabilitas bahwa pekerja tersebut berasal dari Divisi Pengembangan?"
   ]
  },
  {
   "cell_type": "code",
   "execution_count": null,
   "id": "1f9d68ae",
   "metadata": {
    "id": "1f9d68ae"
   },
   "outputs": [],
   "source": [
    "Soal_3_A =\n",
    "print(f\"3A. Jawaban : {Soal_3_A:.2f}\")"
   ]
  },
  {
   "cell_type": "markdown",
   "id": "8ba638f8",
   "metadata": {
    "id": "8ba638f8"
   },
   "source": [
    "### B. Rasio probabilitas pekerja berasal dari Divisi Pengembangan terhadap Divisi Pemasaran"
   ]
  },
  {
   "cell_type": "code",
   "execution_count": null,
   "id": "d8c01823",
   "metadata": {
    "id": "d8c01823"
   },
   "outputs": [],
   "source": [
    "Soal_3_B =\n",
    "print(f\"3B. Jawaban : {Soal_3_B:.2f}\")"
   ]
  },
  {
   "cell_type": "markdown",
   "id": "9aadf9b3",
   "metadata": {
    "id": "9aadf9b3"
   },
   "source": [
    "**Penjelasan Pengerjaan Soal 3** <br>\n",
    "[Isi Penjelasan Soal di sini]"
   ]
  },
  {
   "cell_type": "markdown",
   "id": "6fecf9a2",
   "metadata": {
    "id": "6fecf9a2"
   },
   "source": [
    "---\n",
    "<a name='D'></a>\n",
    "## **Case C**:\n",
    "Sebuah perusahaan memproduksi sekrup dan melakukan inspeksi kualitas sekrup. Perusahaan tersebut menyimpan data inspeksi sekrup cacat dalam file format csv yang kita baca di bawah ini\n",
    "\n",
    "<a name='4'></a>\n",
    "### **Soal 4**: Berapa peluang sekrup cacat dari data inspeksi perusahaan tersebut <br>\n",
    "\n",
    "<a name='5'></a>\n",
    "### **Soal 5**: Berapa proporsi banyak kemasan terjual yang harus diganti oleh perusahaan?\n",
    "\n",
    "Keterangan\n",
    "- (1 = Lolos Uji Cacat, 0 = Cacat)\n",
    "- Setiap kemasan berisi 10 sekrup\n",
    "- Kemasan harus diganti jika terdapat satu atau lebih sekrup cacat di dalamnya."
   ]
  },
  {
   "cell_type": "code",
   "execution_count": null,
   "id": "52324d6b",
   "metadata": {
    "id": "52324d6b"
   },
   "outputs": [],
   "source": [
    "# Pastikan file .csv berada pada directory yang sama\n",
    "df = pd.read_csv(\"./soal4_defect_test.csv\")\n",
    "df"
   ]
  },
  {
   "cell_type": "markdown",
   "id": "51ac2977",
   "metadata": {
    "id": "51ac2977"
   },
   "source": [
    "### **Soal 4**: Berapa peluang sekrup cacat dari data inspeksi perusahaan tersebut <br>"
   ]
  },
  {
   "cell_type": "code",
   "execution_count": null,
   "id": "39a0ae4f",
   "metadata": {
    "id": "39a0ae4f"
   },
   "outputs": [],
   "source": [
    "Soal_4 =\n",
    "print(Soal_4)"
   ]
  },
  {
   "cell_type": "markdown",
   "id": "d18a9c1f",
   "metadata": {
    "id": "d18a9c1f"
   },
   "source": [
    "**Penjelasan Pengerjaan Soal 4** <br>\n",
    "[Isi Penjelasan Soal di sini]"
   ]
  },
  {
   "cell_type": "markdown",
   "id": "92bcf854",
   "metadata": {
    "id": "92bcf854"
   },
   "source": [
    "---\n",
    "<a name='5'></a>\n",
    "### **Soal 5**: Berapa probabilitas sebuah kemasan perlu diganti, asumsikan bahwa probabilitas sebuah sekrup cacat adalah 0.01 dan setiap kemasan berisi 10 sekrup?\n",
    "\n",
    "Clue: $P(X>1)$ bisa dicari dengan\n",
    "$$P(X>1) = 1 - P(X=0) - P(X=1)$$"
   ]
  },
  {
   "cell_type": "code",
   "execution_count": null,
   "id": "5f3eaaae",
   "metadata": {
    "id": "5f3eaaae"
   },
   "outputs": [],
   "source": [
    "# from scipy.stats import binom\n",
    "\n",
    "Soal_5 =\n",
    "print(Soal_5)"
   ]
  },
  {
   "cell_type": "markdown",
   "id": "f60f0b0d",
   "metadata": {
    "id": "f60f0b0d"
   },
   "source": [
    "**Penjelasan Pengerjaan Soal 5** <br>\n",
    "[Isi Penjelasan Soal di sini]"
   ]
  },
  {
   "cell_type": "markdown",
   "id": "f3ca958c",
   "metadata": {
    "id": "f3ca958c"
   },
   "source": [
    "---\n",
    "<a name='6'></a>\n",
    "### **Soal 6**: Sebuah kompetisi internasional mengevaluasi atlet berdasarkan dua kriteria: skor teknik dan skor artistik. Berikut ini adalah 25 total atlet yang berkompetisi. Juri memberikan penilaian untuk masing-masing atlet berdasarkan kedua kriteria tersebut. Data penilaian telah dikumpulkan sebagai berikut:\n",
    "\n",
    "| Atlet   | Skor Teknik (X) | Skor Artistik (Y) |\n",
    "|---------|-----------------|-------------------|\n",
    "| Atlet 1 | 96              | 91                |\n",
    "| Atlet 2 | 88              | 87                |\n",
    "| Atlet 3 | 92              | 89                |\n",
    "| Atlet 4 | 90              | 94                |\n",
    "| Atlet 5 | 94              | 90                |\n",
    "| Atlet 6 | 89              | 85                |\n",
    "| Atlet 7 | 93              | 88                |\n",
    "| Atlet 8 | 87              | 92                |\n",
    "| Atlet 9 | 95              | 93                |\n",
    "| Atlet 10| 91              | 86                |\n",
    "| Atlet 11| 90              | 91                |\n",
    "| Atlet 12| 92              | 88                |\n",
    "| Atlet 13| 89              | 90                |\n",
    "| Atlet 14| 96              | 95                |\n",
    "| Atlet 15| 88              | 89                |\n",
    "|Atlet 20 |\t92\t            | 91                |\n",
    "|Atlet 21 |\t89\t            | 86                |\n",
    "|Atlet 23 |\t87\t            | 90                |\n",
    "|Atlet 24 |\t96\t            | 95                |\n",
    "|Atlet 25 |\t88\t            | 89                |\n",
    "\n",
    "\n",
    "Hitung <br>\n",
    "A. Untuk melihat tingkat kesulitan dari perlombaan ini, hitung nilai exspektasi untuk skor teknikal dan artistik nya <br>\n",
    "B. Untuk mengetahui persebaran nilai dari masing-masing atlet, hitung nilai variance untuk kedua skor tersebut <br>\n",
    "C. Hitung Covariance Matrix antara skor teknikal dengan skor artistik untuk mengetahui korelasi kedua skor tersebut<br>\n",
    "\n",
    "**Clue**\n",
    "- Hati hati dengan kata kata total, apakah itu sample? atau populasi?"
   ]
  },
  {
   "cell_type": "code",
   "execution_count": null,
   "id": "19d13e91",
   "metadata": {
    "id": "19d13e91"
   },
   "outputs": [],
   "source": [
    "# Solver soal 6\n",
    "\n",
    "# A. Expectation (Nilai Harapan)\n",
    "expectation =\n",
    "\n",
    "\n",
    "# B. Variance (Varians)\n",
    "variance =\n",
    "\n",
    "\n",
    "# C. Covariance Matrix (Matriks Kovarians)\n",
    "covariance_matrix ="
   ]
  },
  {
   "cell_type": "code",
   "execution_count": null,
   "id": "f3fe8ad9",
   "metadata": {
    "id": "f3fe8ad9"
   },
   "outputs": [],
   "source": [
    "**Penjelasan Pengerjaan Soal 6** <br>\n",
    "[Isi Penjelasan Soal di sini]"
   ]
  }
 ],
 "metadata": {
  "colab": {
   "provenance": []
  },
  "kernelspec": {
   "display_name": "Python 3 (ipykernel)",
   "language": "python",
   "name": "python3"
  },
  "language_info": {
   "codemirror_mode": {
    "name": "ipython",
    "version": 3
   },
   "file_extension": ".py",
   "mimetype": "text/x-python",
   "name": "python",
   "nbconvert_exporter": "python",
   "pygments_lexer": "ipython3",
   "version": "3.11.8"
  }
 },
 "nbformat": 4,
 "nbformat_minor": 5
}
